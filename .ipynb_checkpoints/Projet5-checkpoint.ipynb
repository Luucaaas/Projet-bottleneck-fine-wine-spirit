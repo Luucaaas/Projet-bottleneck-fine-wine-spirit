{
 "cells": [
  {
   "cell_type": "markdown",
   "metadata": {},
   "source": [
    "<center><img src=\"img.png\" width='800' height='350'><center>"
   ]
  },
  {
   "cell_type": "markdown",
   "metadata": {},
   "source": [
    "### Mise en place d'une solution automatisable de l'analyse des ventes en ligne de la boutique Bottleneck fine wine spirit \n",
    "\n",
    "### Les fichier fournis :\n",
    "* #### Erp : Fichier Excel de 5 colonnes dont le prix, les référence produit et l'état de stock\n",
    "* #### Web : Fichier Excel contenant 28 colonnes sur les informations des produits commercialisés en ligne (Nom, description, nombre de ventes...)\n",
    "* #### Liaison : Fichier Excel avec 2 colonnes fait par Sylvie pour lier Erp et Web"
   ]
  },
  {
   "cell_type": "code",
   "execution_count": 1,
   "metadata": {},
   "outputs": [],
   "source": [
    "import numpy as np\n",
    "import pandas as pd\n",
    "import matplotlib.pyplot as plt\n",
    "import seaborn as sns  \n",
    "import openpyxl as opx\n",
    "import warnings\n",
    "warnings.filterwarnings(\"ignore\")"
   ]
  },
  {
   "cell_type": "code",
   "execution_count": 2,
   "metadata": {},
   "outputs": [],
   "source": [
    "erp = pd.read_excel(\"erp.xlsx\")\n",
    "liaison = pd.read_excel(\"liaison.xlsx\")\n",
    "web = pd.read_excel(\"web.xlsx\")\n",
    "web.rename(columns={'sku':'id_web'}, inplace=True)\n",
    "web = web.loc[web[\"post_type\"] == 'product']\n",
    "web = web[web[\"id_web\"].notnull()]"
   ]
  },
  {
   "cell_type": "code",
   "execution_count": 3,
   "metadata": {},
   "outputs": [],
   "source": [
    "#display(erp)\n",
    "#display(liaison)\n",
    "#display(web)"
   ]
  },
  {
   "cell_type": "markdown",
   "metadata": {},
   "source": [
    "## Préparation de la data "
   ]
  },
  {
   "cell_type": "code",
   "execution_count": 4,
   "metadata": {},
   "outputs": [
    {
     "data": {
      "text/html": [
       "<div>\n",
       "<style scoped>\n",
       "    .dataframe tbody tr th:only-of-type {\n",
       "        vertical-align: middle;\n",
       "    }\n",
       "\n",
       "    .dataframe tbody tr th {\n",
       "        vertical-align: top;\n",
       "    }\n",
       "\n",
       "    .dataframe thead th {\n",
       "        text-align: right;\n",
       "    }\n",
       "</style>\n",
       "<table border=\"1\" class=\"dataframe\">\n",
       "  <thead>\n",
       "    <tr style=\"text-align: right;\">\n",
       "      <th></th>\n",
       "      <th>product_id</th>\n",
       "      <th>onsale_web</th>\n",
       "      <th>price</th>\n",
       "      <th>stock_quantity</th>\n",
       "      <th>stock_status</th>\n",
       "      <th>id_web</th>\n",
       "      <th>_merge</th>\n",
       "    </tr>\n",
       "  </thead>\n",
       "  <tbody>\n",
       "  </tbody>\n",
       "</table>\n",
       "</div>"
      ],
      "text/plain": [
       "Empty DataFrame\n",
       "Columns: [product_id, onsale_web, price, stock_quantity, stock_status, id_web, _merge]\n",
       "Index: []"
      ]
     },
     "execution_count": 4,
     "metadata": {},
     "output_type": "execute_result"
    }
   ],
   "source": [
    "df = pd.merge(erp,liaison,on='product_id',how='outer',indicator=True)\n",
    "df.loc[df[\"_merge\"] != \"both\"]"
   ]
  },
  {
   "cell_type": "markdown",
   "metadata": {},
   "source": [
    "### Chaque ligne de ERP à une réference dans liaison"
   ]
  },
  {
   "cell_type": "code",
   "execution_count": 5,
   "metadata": {},
   "outputs": [],
   "source": [
    "del df[\"_merge\"]"
   ]
  },
  {
   "cell_type": "code",
   "execution_count": 6,
   "metadata": {},
   "outputs": [
    {
     "data": {
      "text/plain": [
       "post_name      0\n",
       "price          0\n",
       "total_sales    0\n",
       "Total          0\n",
       "dtype: int64"
      ]
     },
     "execution_count": 6,
     "metadata": {},
     "output_type": "execute_result"
    }
   ],
   "source": [
    "data = pd.merge(df, web, on='id_web', how='outer', indicator=True)\n",
    "data_final = data.loc[data[\"_merge\"] == \"both\", ['post_name','price','total_sales']]\n",
    "data_final[\"Total\"] = data_final[\"price\"] * data_final[\"total_sales\"]\n",
    "data_final.isnull().sum()"
   ]
  },
  {
   "cell_type": "markdown",
   "metadata": {},
   "source": [
    "## Calcul du chiffre d'affaires total et par produit "
   ]
  },
  {
   "cell_type": "code",
   "execution_count": 7,
   "metadata": {},
   "outputs": [
    {
     "data": {
      "text/html": [
       "<div>\n",
       "<style scoped>\n",
       "    .dataframe tbody tr th:only-of-type {\n",
       "        vertical-align: middle;\n",
       "    }\n",
       "\n",
       "    .dataframe tbody tr th {\n",
       "        vertical-align: top;\n",
       "    }\n",
       "\n",
       "    .dataframe thead th {\n",
       "        text-align: right;\n",
       "    }\n",
       "</style>\n",
       "<table border=\"1\" class=\"dataframe\">\n",
       "  <thead>\n",
       "    <tr style=\"text-align: right;\">\n",
       "      <th></th>\n",
       "      <th>post_name</th>\n",
       "      <th>price</th>\n",
       "      <th>total_sales</th>\n",
       "      <th>Total</th>\n",
       "    </tr>\n",
       "  </thead>\n",
       "  <tbody>\n",
       "    <tr>\n",
       "      <th>286</th>\n",
       "      <td>champagne-gosset-grand-blanc-de-blanc</td>\n",
       "      <td>49.0</td>\n",
       "      <td>96.0</td>\n",
       "      <td>4704.0</td>\n",
       "    </tr>\n",
       "    <tr>\n",
       "      <th>162</th>\n",
       "      <td>champagne-gosset-grand-rose</td>\n",
       "      <td>49.0</td>\n",
       "      <td>87.0</td>\n",
       "      <td>4263.0</td>\n",
       "    </tr>\n",
       "    <tr>\n",
       "      <th>310</th>\n",
       "      <td>cognac-frapin-vip-xo</td>\n",
       "      <td>176.0</td>\n",
       "      <td>13.0</td>\n",
       "      <td>2288.0</td>\n",
       "    </tr>\n",
       "    <tr>\n",
       "      <th>161</th>\n",
       "      <td>champagne-gosset-grand-millesime-2006</td>\n",
       "      <td>53.0</td>\n",
       "      <td>30.0</td>\n",
       "      <td>1590.0</td>\n",
       "    </tr>\n",
       "    <tr>\n",
       "      <th>160</th>\n",
       "      <td>gosset-champagne-grande-reserve</td>\n",
       "      <td>39.0</td>\n",
       "      <td>40.0</td>\n",
       "      <td>1560.0</td>\n",
       "    </tr>\n",
       "    <tr>\n",
       "      <th>...</th>\n",
       "      <td>...</td>\n",
       "      <td>...</td>\n",
       "      <td>...</td>\n",
       "      <td>...</td>\n",
       "    </tr>\n",
       "    <tr>\n",
       "      <th>447</th>\n",
       "      <td>maurice-schoech-pinot-noir-piece-de-chene-2016</td>\n",
       "      <td>13.6</td>\n",
       "      <td>0.0</td>\n",
       "      <td>0.0</td>\n",
       "    </tr>\n",
       "    <tr>\n",
       "      <th>446</th>\n",
       "      <td>maurice-schoech-riesling-2018</td>\n",
       "      <td>11.1</td>\n",
       "      <td>0.0</td>\n",
       "      <td>0.0</td>\n",
       "    </tr>\n",
       "    <tr>\n",
       "      <th>443</th>\n",
       "      <td>maurice-schoech-gewurztraminer-2018</td>\n",
       "      <td>12.1</td>\n",
       "      <td>0.0</td>\n",
       "      <td>0.0</td>\n",
       "    </tr>\n",
       "    <tr>\n",
       "      <th>441</th>\n",
       "      <td>maurice-schoech-riesling-vendanges-tardives-2017</td>\n",
       "      <td>28.5</td>\n",
       "      <td>0.0</td>\n",
       "      <td>0.0</td>\n",
       "    </tr>\n",
       "    <tr>\n",
       "      <th>824</th>\n",
       "      <td>domaine-saint-nicolas-fiefs-vendeens-blanc-les...</td>\n",
       "      <td>16.3</td>\n",
       "      <td>0.0</td>\n",
       "      <td>0.0</td>\n",
       "    </tr>\n",
       "  </tbody>\n",
       "</table>\n",
       "<p>714 rows × 4 columns</p>\n",
       "</div>"
      ],
      "text/plain": [
       "                                             post_name  price  total_sales  \\\n",
       "286              champagne-gosset-grand-blanc-de-blanc   49.0         96.0   \n",
       "162                        champagne-gosset-grand-rose   49.0         87.0   \n",
       "310                               cognac-frapin-vip-xo  176.0         13.0   \n",
       "161              champagne-gosset-grand-millesime-2006   53.0         30.0   \n",
       "160                    gosset-champagne-grande-reserve   39.0         40.0   \n",
       "..                                                 ...    ...          ...   \n",
       "447     maurice-schoech-pinot-noir-piece-de-chene-2016   13.6          0.0   \n",
       "446                      maurice-schoech-riesling-2018   11.1          0.0   \n",
       "443                maurice-schoech-gewurztraminer-2018   12.1          0.0   \n",
       "441   maurice-schoech-riesling-vendanges-tardives-2017   28.5          0.0   \n",
       "824  domaine-saint-nicolas-fiefs-vendeens-blanc-les...   16.3          0.0   \n",
       "\n",
       "      Total  \n",
       "286  4704.0  \n",
       "162  4263.0  \n",
       "310  2288.0  \n",
       "161  1590.0  \n",
       "160  1560.0  \n",
       "..      ...  \n",
       "447     0.0  \n",
       "446     0.0  \n",
       "443     0.0  \n",
       "441     0.0  \n",
       "824     0.0  \n",
       "\n",
       "[714 rows x 4 columns]"
      ]
     },
     "metadata": {},
     "output_type": "display_data"
    },
    {
     "name": "stdout",
     "output_type": "stream",
     "text": [
      "Le Chiffre d'affaires total est de 70568.6 Euros\n"
     ]
    }
   ],
   "source": [
    "display(data_final.sort_values('Total', ascending=False))\n",
    "print(\"Le Chiffre d'affaires total est de\",data_final[\"Total\"].sum(),\"Euros\")"
   ]
  },
  {
   "cell_type": "markdown",
   "metadata": {},
   "source": [
    "## Analyse statistique des prix de ventes des bouteilles"
   ]
  },
  {
   "cell_type": "code",
   "execution_count": 8,
   "metadata": {},
   "outputs": [
    {
     "name": "stdout",
     "output_type": "stream",
     "text": [
      "Il y a 714 références produit dans la dataset\n",
      "Le prix moyen d'une bouteille est de 32.5 €\n",
      "l'écart type est de 27.8 €\n",
      "Le premier quartile est de 14.1 € et le troisieme est de 42.2 €\n",
      "La médiane est de 23.6 €\n"
     ]
    }
   ],
   "source": [
    "price = data_final[\"price\"]\n",
    "\n",
    "outlier = price.describe()\n",
    "\n",
    "print(\"Il y a\",round(outlier[0]),\"références produit dans la dataset\")\n",
    "print(\"Le prix moyen d'une bouteille est de\",round(outlier[1],1),\"€\")\n",
    "print(\"l'écart type est de\",round(outlier[2],1),\"€\")\n",
    "print(\"Le premier quartile est de\",round(outlier[4],1),\"€ et le troisieme est de\",round(outlier[6],1),\"€\")\n",
    "print(\"La médiane est de\", round(outlier[5],1),\"€\")"
   ]
  },
  {
   "cell_type": "markdown",
   "metadata": {},
   "source": [
    "### Calcul via l'écart type des valeurs abérantes"
   ]
  },
  {
   "cell_type": "code",
   "execution_count": 9,
   "metadata": {},
   "outputs": [
    {
     "name": "stdout",
     "output_type": "stream",
     "text": [
      "Les valeurs abérante se situe en dehors de -9.2 € et 74.2 €\n"
     ]
    }
   ],
   "source": [
    "limit_sup = outlier[1] + 1.5 * outlier[2]\n",
    "limit_inf = outlier[1] - 1.5 * outlier[2]\n",
    "\n",
    "print(\"Les valeurs abérante se situe en dehors de\",round(limit_inf,1),'€ et',round(limit_sup,1),\"€\")\n"
   ]
  },
  {
   "cell_type": "markdown",
   "metadata": {},
   "source": [
    "### Calcul via l'écart interquartiles des valeurs abérantes"
   ]
  },
  {
   "cell_type": "code",
   "execution_count": 10,
   "metadata": {},
   "outputs": [
    {
     "name": "stdout",
     "output_type": "stream",
     "text": [
      "La borne supérieur est à 84.3 €\n",
      "La borne inférieur est à -28.0 €\n"
     ]
    }
   ],
   "source": [
    "lower_terminal = outlier[4] - (1.5 * (outlier[6]-outlier[4]))\n",
    "\n",
    "upper_terminal = outlier[6] + (1.5 * (outlier[6]-outlier[4]))\n",
    "\n",
    "print(\"La borne supérieur est à\", round(upper_terminal,1),'€')\n",
    "print(\"La borne inférieur est à\", round(lower_terminal,1),'€')\n"
   ]
  },
  {
   "cell_type": "markdown",
   "metadata": {},
   "source": [
    "### Calcul via z score"
   ]
  },
  {
   "cell_type": "code",
   "execution_count": 11,
   "metadata": {},
   "outputs": [
    {
     "data": {
      "text/html": [
       "<div>\n",
       "<style scoped>\n",
       "    .dataframe tbody tr th:only-of-type {\n",
       "        vertical-align: middle;\n",
       "    }\n",
       "\n",
       "    .dataframe tbody tr th {\n",
       "        vertical-align: top;\n",
       "    }\n",
       "\n",
       "    .dataframe thead th {\n",
       "        text-align: right;\n",
       "    }\n",
       "</style>\n",
       "<table border=\"1\" class=\"dataframe\">\n",
       "  <thead>\n",
       "    <tr style=\"text-align: right;\">\n",
       "      <th></th>\n",
       "      <th>post_name</th>\n",
       "      <th>price</th>\n",
       "    </tr>\n",
       "  </thead>\n",
       "  <tbody>\n",
       "    <tr>\n",
       "      <th>291</th>\n",
       "      <td>champagne-egly-ouriet-grand-cru-millesime-2008</td>\n",
       "      <td>225.0</td>\n",
       "    </tr>\n",
       "    <tr>\n",
       "      <th>525</th>\n",
       "      <td>david-duband-charmes-chambertin-grand-cru-2014</td>\n",
       "      <td>217.5</td>\n",
       "    </tr>\n",
       "    <tr>\n",
       "      <th>692</th>\n",
       "      <td>coteaux-champenois-egly-ouriet-ambonnay-rouge-...</td>\n",
       "      <td>191.3</td>\n",
       "    </tr>\n",
       "    <tr>\n",
       "      <th>310</th>\n",
       "      <td>cognac-frapin-vip-xo</td>\n",
       "      <td>176.0</td>\n",
       "    </tr>\n",
       "    <tr>\n",
       "      <th>657</th>\n",
       "      <td>camille-giroud-clos-de-vougeot-2016</td>\n",
       "      <td>175.0</td>\n",
       "    </tr>\n",
       "    <tr>\n",
       "      <th>313</th>\n",
       "      <td>cognac-frapin-chateau-de-fontpinot-1989-20-ans</td>\n",
       "      <td>157.0</td>\n",
       "    </tr>\n",
       "    <tr>\n",
       "      <th>478</th>\n",
       "      <td>domaine-des-croix-corton-charlemagne-grand-cru...</td>\n",
       "      <td>137.0</td>\n",
       "    </tr>\n",
       "    <tr>\n",
       "      <th>752</th>\n",
       "      <td>champagne-gosset-celebris-vintage-2007</td>\n",
       "      <td>135.0</td>\n",
       "    </tr>\n",
       "    <tr>\n",
       "      <th>293</th>\n",
       "      <td>champagne-egly-ouriet-grand-cru-brut-blanc-de-...</td>\n",
       "      <td>126.5</td>\n",
       "    </tr>\n",
       "    <tr>\n",
       "      <th>615</th>\n",
       "      <td>domaine-weinbach-gewurztraminer-gc-furstentum-...</td>\n",
       "      <td>124.8</td>\n",
       "    </tr>\n",
       "    <tr>\n",
       "      <th>708</th>\n",
       "      <td>wemyss-malts-single-cask-scotch-whisky-choc-n-...</td>\n",
       "      <td>122.0</td>\n",
       "    </tr>\n",
       "    <tr>\n",
       "      <th>767</th>\n",
       "      <td>domaine-des-comtes-lafon-volnay-1er-cru-champa...</td>\n",
       "      <td>121.0</td>\n",
       "    </tr>\n",
       "    <tr>\n",
       "      <th>764</th>\n",
       "      <td>domaine-des-comtes-lafon-volnay-1er-cru-santen...</td>\n",
       "      <td>121.0</td>\n",
       "    </tr>\n",
       "    <tr>\n",
       "      <th>758</th>\n",
       "      <td>domaine-clerget-echezeaux-en-orveaux-2015</td>\n",
       "      <td>116.4</td>\n",
       "    </tr>\n",
       "    <tr>\n",
       "      <th>766</th>\n",
       "      <td>domaine-des-comtes-lafon-volnay-1er-cru-champa...</td>\n",
       "      <td>115.0</td>\n",
       "    </tr>\n",
       "    <tr>\n",
       "      <th>763</th>\n",
       "      <td>domaine-des-comtes-lafon-volnay-1er-cru-santen...</td>\n",
       "      <td>115.0</td>\n",
       "    </tr>\n",
       "    <tr>\n",
       "      <th>709</th>\n",
       "      <td>wemyss-malts-single-cask-scotch-whisky-chai-ca...</td>\n",
       "      <td>114.0</td>\n",
       "    </tr>\n",
       "    <tr>\n",
       "      <th>538</th>\n",
       "      <td>champagne-agrapart-fils-lavizoise-grand-cru-20...</td>\n",
       "      <td>112.0</td>\n",
       "    </tr>\n",
       "    <tr>\n",
       "      <th>320</th>\n",
       "      <td>chateau-de-puligny-montrachet-1cru-champ-canet...</td>\n",
       "      <td>109.6</td>\n",
       "    </tr>\n",
       "    <tr>\n",
       "      <th>311</th>\n",
       "      <td>cognac-frapin-fontpinot-xo</td>\n",
       "      <td>108.5</td>\n",
       "    </tr>\n",
       "    <tr>\n",
       "      <th>757</th>\n",
       "      <td>david-duband-chambolle-musigny-1er-cru-les-sen...</td>\n",
       "      <td>105.6</td>\n",
       "    </tr>\n",
       "    <tr>\n",
       "      <th>531</th>\n",
       "      <td>domaine-des-comtes-lafon-volnay-1er-cru-santen...</td>\n",
       "      <td>105.0</td>\n",
       "    </tr>\n",
       "    <tr>\n",
       "      <th>530</th>\n",
       "      <td>domaine-des-comtes-lafon-volnay-1er-cru-santen...</td>\n",
       "      <td>105.0</td>\n",
       "    </tr>\n",
       "    <tr>\n",
       "      <th>314</th>\n",
       "      <td>cognac-frapin-cigar-blend</td>\n",
       "      <td>104.0</td>\n",
       "    </tr>\n",
       "    <tr>\n",
       "      <th>477</th>\n",
       "      <td>domaine-des-croix-corton-grand-cru-les-greves-...</td>\n",
       "      <td>102.3</td>\n",
       "    </tr>\n",
       "    <tr>\n",
       "      <th>154</th>\n",
       "      <td>zind-humbrecht-riesling-gc-rangen-thann-clos-s...</td>\n",
       "      <td>100.0</td>\n",
       "    </tr>\n",
       "    <tr>\n",
       "      <th>765</th>\n",
       "      <td>domaine-des-comtes-lafon-volnay-1er-cru-champa...</td>\n",
       "      <td>99.0</td>\n",
       "    </tr>\n",
       "    <tr>\n",
       "      <th>707</th>\n",
       "      <td>wemyss-malts-single-cask-chocolate-moka-cake</td>\n",
       "      <td>93.0</td>\n",
       "    </tr>\n",
       "    <tr>\n",
       "      <th>605</th>\n",
       "      <td>tempier-bandol-cabassaou-2017</td>\n",
       "      <td>92.0</td>\n",
       "    </tr>\n",
       "    <tr>\n",
       "      <th>156</th>\n",
       "      <td>zind-humbrecht-pinot-gris-grand-cru-rangen-de-...</td>\n",
       "      <td>88.4</td>\n",
       "    </tr>\n",
       "  </tbody>\n",
       "</table>\n",
       "</div>"
      ],
      "text/plain": [
       "                                             post_name  price\n",
       "291     champagne-egly-ouriet-grand-cru-millesime-2008  225.0\n",
       "525     david-duband-charmes-chambertin-grand-cru-2014  217.5\n",
       "692  coteaux-champenois-egly-ouriet-ambonnay-rouge-...  191.3\n",
       "310                               cognac-frapin-vip-xo  176.0\n",
       "657                camille-giroud-clos-de-vougeot-2016  175.0\n",
       "313     cognac-frapin-chateau-de-fontpinot-1989-20-ans  157.0\n",
       "478  domaine-des-croix-corton-charlemagne-grand-cru...  137.0\n",
       "752             champagne-gosset-celebris-vintage-2007  135.0\n",
       "293  champagne-egly-ouriet-grand-cru-brut-blanc-de-...  126.5\n",
       "615  domaine-weinbach-gewurztraminer-gc-furstentum-...  124.8\n",
       "708  wemyss-malts-single-cask-scotch-whisky-choc-n-...  122.0\n",
       "767  domaine-des-comtes-lafon-volnay-1er-cru-champa...  121.0\n",
       "764  domaine-des-comtes-lafon-volnay-1er-cru-santen...  121.0\n",
       "758          domaine-clerget-echezeaux-en-orveaux-2015  116.4\n",
       "766  domaine-des-comtes-lafon-volnay-1er-cru-champa...  115.0\n",
       "763  domaine-des-comtes-lafon-volnay-1er-cru-santen...  115.0\n",
       "709  wemyss-malts-single-cask-scotch-whisky-chai-ca...  114.0\n",
       "538  champagne-agrapart-fils-lavizoise-grand-cru-20...  112.0\n",
       "320  chateau-de-puligny-montrachet-1cru-champ-canet...  109.6\n",
       "311                         cognac-frapin-fontpinot-xo  108.5\n",
       "757  david-duband-chambolle-musigny-1er-cru-les-sen...  105.6\n",
       "531  domaine-des-comtes-lafon-volnay-1er-cru-santen...  105.0\n",
       "530  domaine-des-comtes-lafon-volnay-1er-cru-santen...  105.0\n",
       "314                          cognac-frapin-cigar-blend  104.0\n",
       "477  domaine-des-croix-corton-grand-cru-les-greves-...  102.3\n",
       "154  zind-humbrecht-riesling-gc-rangen-thann-clos-s...  100.0\n",
       "765  domaine-des-comtes-lafon-volnay-1er-cru-champa...   99.0\n",
       "707       wemyss-malts-single-cask-chocolate-moka-cake   93.0\n",
       "605                      tempier-bandol-cabassaou-2017   92.0\n",
       "156  zind-humbrecht-pinot-gris-grand-cru-rangen-de-...   88.4"
      ]
     },
     "execution_count": 11,
     "metadata": {},
     "output_type": "execute_result"
    }
   ],
   "source": [
    "data_final[\"zscore\"] = (data_final[\"price\"]-np.mean(data_final[\"price\"]))/np.std(data_final[\"price\"])\n",
    "data_final.loc[np.abs(data_final[\"zscore\"]) > 2,[\"post_name\",\"price\"]].sort_values('price', ascending=False)\n"
   ]
  },
  {
   "cell_type": "markdown",
   "metadata": {},
   "source": [
    "## Représentation graphique"
   ]
  },
  {
   "cell_type": "markdown",
   "metadata": {},
   "source": [
    "### Bar plot"
   ]
  },
  {
   "cell_type": "code",
   "execution_count": 12,
   "metadata": {},
   "outputs": [
    {
     "data": {
      "image/png": "[encoded data removed]",
      "text/plain": [
       "<Figure size 2000x500 with 1 Axes>"
      ]
     },
     "metadata": {},
     "output_type": "display_data"
    }
   ],
   "source": [
    "plt.figure(figsize=(20,5))\n",
    "plt.boxplot(price, vert=False)\n",
    "plt.xlabel('Prix unitaire (€)')\n",
    "plt.title('Diagramme en boite a moustache des prix des bouteilles')\n",
    "plt.show()"
   ]
  },
  {
   "cell_type": "markdown",
   "metadata": {},
   "source": [
    "### Nuage de point "
   ]
  },
  {
   "cell_type": "code",
   "execution_count": 13,
   "metadata": {},
   "outputs": [
    {
     "data": {
      "image/png": "[encoded data removed]",
      "text/plain": [
       "<Figure size 1000x800 with 1 Axes>"
      ]
     },
     "metadata": {},
     "output_type": "display_data"
    }
   ],
   "source": [
    "red = data_final.loc[data_final[\"price\"] > upper_terminal,:]\n",
    "\n",
    "plt.figure(figsize=(10,8))\n",
    "plt.scatter(data_final['price'],data_final['price'].index,s=10)\n",
    "plt.scatter(red[\"price\"],red['price'].index,s=10,color='r')\n",
    "plt.title('Nuage de point')\n",
    "plt.xlabel(\"prix unitaire (€)\")\n",
    "plt.ylabel(\"Index des prix\")\n",
    "plt.show()"
   ]
  },
  {
   "cell_type": "code",
   "execution_count": 14,
   "metadata": {},
   "outputs": [
    {
     "data": {
      "text/plain": [
       "32"
      ]
     },
     "execution_count": 14,
     "metadata": {},
     "output_type": "execute_result"
    }
   ],
   "source": [
    "data_final.loc[data_final[\"price\"] > upper_terminal,\"price\"].count()"
   ]
  },
  {
   "cell_type": "code",
   "execution_count": 15,
   "metadata": {},
   "outputs": [
    {
     "data": {
      "text/html": [
       "<div>\n",
       "<style scoped>\n",
       "    .dataframe tbody tr th:only-of-type {\n",
       "        vertical-align: middle;\n",
       "    }\n",
       "\n",
       "    .dataframe tbody tr th {\n",
       "        vertical-align: top;\n",
       "    }\n",
       "\n",
       "    .dataframe thead th {\n",
       "        text-align: right;\n",
       "    }\n",
       "</style>\n",
       "<table border=\"1\" class=\"dataframe\">\n",
       "  <thead>\n",
       "    <tr style=\"text-align: right;\">\n",
       "      <th></th>\n",
       "      <th>post_name</th>\n",
       "      <th>price</th>\n",
       "      <th>total_sales</th>\n",
       "      <th>Total</th>\n",
       "      <th>zscore</th>\n",
       "    </tr>\n",
       "  </thead>\n",
       "  <tbody>\n",
       "    <tr>\n",
       "      <th>291</th>\n",
       "      <td>champagne-egly-ouriet-grand-cru-millesime-2008</td>\n",
       "      <td>225.0</td>\n",
       "      <td>5.0</td>\n",
       "      <td>1125.0</td>\n",
       "      <td>6.926939</td>\n",
       "    </tr>\n",
       "    <tr>\n",
       "      <th>310</th>\n",
       "      <td>cognac-frapin-vip-xo</td>\n",
       "      <td>176.0</td>\n",
       "      <td>13.0</td>\n",
       "      <td>2288.0</td>\n",
       "      <td>5.163781</td>\n",
       "    </tr>\n",
       "    <tr>\n",
       "      <th>313</th>\n",
       "      <td>cognac-frapin-chateau-de-fontpinot-1989-20-ans</td>\n",
       "      <td>157.0</td>\n",
       "      <td>0.0</td>\n",
       "      <td>0.0</td>\n",
       "      <td>4.480108</td>\n",
       "    </tr>\n",
       "    <tr>\n",
       "      <th>293</th>\n",
       "      <td>champagne-egly-ouriet-grand-cru-brut-blanc-de-...</td>\n",
       "      <td>126.5</td>\n",
       "      <td>11.0</td>\n",
       "      <td>1391.5</td>\n",
       "      <td>3.382632</td>\n",
       "    </tr>\n",
       "    <tr>\n",
       "      <th>320</th>\n",
       "      <td>chateau-de-puligny-montrachet-1cru-champ-canet...</td>\n",
       "      <td>109.6</td>\n",
       "      <td>0.0</td>\n",
       "      <td>0.0</td>\n",
       "      <td>2.774522</td>\n",
       "    </tr>\n",
       "    <tr>\n",
       "      <th>311</th>\n",
       "      <td>cognac-frapin-fontpinot-xo</td>\n",
       "      <td>108.5</td>\n",
       "      <td>2.0</td>\n",
       "      <td>217.0</td>\n",
       "      <td>2.734941</td>\n",
       "    </tr>\n",
       "    <tr>\n",
       "      <th>314</th>\n",
       "      <td>cognac-frapin-cigar-blend</td>\n",
       "      <td>104.0</td>\n",
       "      <td>1.0</td>\n",
       "      <td>104.0</td>\n",
       "      <td>2.573018</td>\n",
       "    </tr>\n",
       "    <tr>\n",
       "      <th>154</th>\n",
       "      <td>zind-humbrecht-riesling-gc-rangen-thann-clos-s...</td>\n",
       "      <td>100.0</td>\n",
       "      <td>0.0</td>\n",
       "      <td>0.0</td>\n",
       "      <td>2.429087</td>\n",
       "    </tr>\n",
       "    <tr>\n",
       "      <th>156</th>\n",
       "      <td>zind-humbrecht-pinot-gris-grand-cru-rangen-de-...</td>\n",
       "      <td>88.4</td>\n",
       "      <td>0.0</td>\n",
       "      <td>0.0</td>\n",
       "      <td>2.011686</td>\n",
       "    </tr>\n",
       "    <tr>\n",
       "      <th>297</th>\n",
       "      <td>champagne-larmandier-bernier-grand-cru-vieille...</td>\n",
       "      <td>85.6</td>\n",
       "      <td>1.0</td>\n",
       "      <td>85.6</td>\n",
       "      <td>1.910934</td>\n",
       "    </tr>\n",
       "    <tr>\n",
       "      <th>288</th>\n",
       "      <td>champagne-mailly-grand-cru-les-echansons-2007</td>\n",
       "      <td>83.0</td>\n",
       "      <td>0.0</td>\n",
       "      <td>0.0</td>\n",
       "      <td>1.817379</td>\n",
       "    </tr>\n",
       "    <tr>\n",
       "      <th>10</th>\n",
       "      <td>pierre-gaillard-cote-rotie-rose-pourpre-2017</td>\n",
       "      <td>80.0</td>\n",
       "      <td>6.0</td>\n",
       "      <td>480.0</td>\n",
       "      <td>1.709431</td>\n",
       "    </tr>\n",
       "    <tr>\n",
       "      <th>218</th>\n",
       "      <td>lucien-boillot-nuits-saint-georges-1ercru-prul...</td>\n",
       "      <td>79.8</td>\n",
       "      <td>0.0</td>\n",
       "      <td>0.0</td>\n",
       "      <td>1.702234</td>\n",
       "    </tr>\n",
       "    <tr>\n",
       "      <th>292</th>\n",
       "      <td>champagne-egly-ouriet-grand-cru-brut-rose</td>\n",
       "      <td>79.5</td>\n",
       "      <td>3.0</td>\n",
       "      <td>238.5</td>\n",
       "      <td>1.691439</td>\n",
       "    </tr>\n",
       "    <tr>\n",
       "      <th>290</th>\n",
       "      <td>champagne-egly-ouriet-extra-brut-vp</td>\n",
       "      <td>79.5</td>\n",
       "      <td>0.0</td>\n",
       "      <td>0.0</td>\n",
       "      <td>1.691439</td>\n",
       "    </tr>\n",
       "    <tr>\n",
       "      <th>452</th>\n",
       "      <td>domaine-peyre-rose-clos-des-cistes-2008</td>\n",
       "      <td>78.0</td>\n",
       "      <td>0.0</td>\n",
       "      <td>0.0</td>\n",
       "      <td>1.637465</td>\n",
       "    </tr>\n",
       "    <tr>\n",
       "      <th>126</th>\n",
       "      <td>chateau-de-vaudieu-chateauneuf-du-pape-lavenue...</td>\n",
       "      <td>77.8</td>\n",
       "      <td>0.0</td>\n",
       "      <td>0.0</td>\n",
       "      <td>1.630269</td>\n",
       "    </tr>\n",
       "    <tr>\n",
       "      <th>159</th>\n",
       "      <td>zind-humbrecht-gewurzt-grand-cru-rangen-de-tha...</td>\n",
       "      <td>77.4</td>\n",
       "      <td>0.0</td>\n",
       "      <td>0.0</td>\n",
       "      <td>1.615875</td>\n",
       "    </tr>\n",
       "    <tr>\n",
       "      <th>296</th>\n",
       "      <td>champagne-larmandier-bernier-vieilles-vignes-l...</td>\n",
       "      <td>77.0</td>\n",
       "      <td>0.0</td>\n",
       "      <td>0.0</td>\n",
       "      <td>1.601482</td>\n",
       "    </tr>\n",
       "    <tr>\n",
       "      <th>352</th>\n",
       "      <td>marcel-windholtz-eau-de-vie-de-baie-de-houx</td>\n",
       "      <td>76.8</td>\n",
       "      <td>0.0</td>\n",
       "      <td>0.0</td>\n",
       "      <td>1.594286</td>\n",
       "    </tr>\n",
       "  </tbody>\n",
       "</table>\n",
       "</div>"
      ],
      "text/plain": [
       "                                             post_name  price  total_sales  \\\n",
       "291     champagne-egly-ouriet-grand-cru-millesime-2008  225.0          5.0   \n",
       "310                               cognac-frapin-vip-xo  176.0         13.0   \n",
       "313     cognac-frapin-chateau-de-fontpinot-1989-20-ans  157.0          0.0   \n",
       "293  champagne-egly-ouriet-grand-cru-brut-blanc-de-...  126.5         11.0   \n",
       "320  chateau-de-puligny-montrachet-1cru-champ-canet...  109.6          0.0   \n",
       "311                         cognac-frapin-fontpinot-xo  108.5          2.0   \n",
       "314                          cognac-frapin-cigar-blend  104.0          1.0   \n",
       "154  zind-humbrecht-riesling-gc-rangen-thann-clos-s...  100.0          0.0   \n",
       "156  zind-humbrecht-pinot-gris-grand-cru-rangen-de-...   88.4          0.0   \n",
       "297  champagne-larmandier-bernier-grand-cru-vieille...   85.6          1.0   \n",
       "288      champagne-mailly-grand-cru-les-echansons-2007   83.0          0.0   \n",
       "10        pierre-gaillard-cote-rotie-rose-pourpre-2017   80.0          6.0   \n",
       "218  lucien-boillot-nuits-saint-georges-1ercru-prul...   79.8          0.0   \n",
       "292          champagne-egly-ouriet-grand-cru-brut-rose   79.5          3.0   \n",
       "290                champagne-egly-ouriet-extra-brut-vp   79.5          0.0   \n",
       "452            domaine-peyre-rose-clos-des-cistes-2008   78.0          0.0   \n",
       "126  chateau-de-vaudieu-chateauneuf-du-pape-lavenue...   77.8          0.0   \n",
       "159  zind-humbrecht-gewurzt-grand-cru-rangen-de-tha...   77.4          0.0   \n",
       "296  champagne-larmandier-bernier-vieilles-vignes-l...   77.0          0.0   \n",
       "352        marcel-windholtz-eau-de-vie-de-baie-de-houx   76.8          0.0   \n",
       "\n",
       "      Total    zscore  \n",
       "291  1125.0  6.926939  \n",
       "310  2288.0  5.163781  \n",
       "313     0.0  4.480108  \n",
       "293  1391.5  3.382632  \n",
       "320     0.0  2.774522  \n",
       "311   217.0  2.734941  \n",
       "314   104.0  2.573018  \n",
       "154     0.0  2.429087  \n",
       "156     0.0  2.011686  \n",
       "297    85.6  1.910934  \n",
       "288     0.0  1.817379  \n",
       "10    480.0  1.709431  \n",
       "218     0.0  1.702234  \n",
       "292   238.5  1.691439  \n",
       "290     0.0  1.691439  \n",
       "452     0.0  1.637465  \n",
       "126     0.0  1.630269  \n",
       "159     0.0  1.615875  \n",
       "296     0.0  1.601482  \n",
       "352     0.0  1.594286  "
      ]
     },
     "execution_count": 15,
     "metadata": {},
     "output_type": "execute_result"
    }
   ],
   "source": [
    "data_final.loc[data_final[\"price\"] > limit_sup].head(20).sort_values('price',ascending=False)"
   ]
  },
  {
   "cell_type": "code",
   "execution_count": null,
   "metadata": {},
   "outputs": [],
   "source": []
  },
  {
   "cell_type": "code",
   "execution_count": null,
   "metadata": {},
   "outputs": [],
   "source": []
  }
 ],
 "metadata": {
  "kernelspec": {
   "display_name": "Python 3 (ipykernel)",
   "language": "python",
   "name": "python3"
  },
  "language_info": {
   "codemirror_mode": {
    "name": "ipython",
    "version": 3
   },
   "file_extension": ".py",
   "mimetype": "text/x-python",
   "name": "python",
   "nbconvert_exporter": "python",
   "pygments_lexer": "ipython3",
   "version": "3.10.9"
  },
  "vscode": {
   "interpreter": {
    "hash": "8726131e2b7ddec03c10cf8a304d6c22e6957ba654d31e4ef4a68af31185baae"
   }
  }
 },
 "nbformat": 4,
 "nbformat_minor": 2
}
